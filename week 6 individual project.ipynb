{
 "cells": [
  {
   "cell_type": "code",
   "execution_count": null,
   "id": "0881329d",
   "metadata": {},
   "outputs": [],
   "source": [
    "print (\"Sales and Operations Planning Project\")\n",
    "print(\"---------------------------------------\")\n",   
    "# Initial stock level\n",
    "initial_stock = int(input(\"Please enter an initial stock level: \"))\n",
    "# number of months to plan\n",
    "num_months = int(input(\"Please enter the number of months to plan: \"))\n",
    "# Create an empty list to store the planned sales quantities\n",
    "sales_quantities = []\n",
    "# Loop through each month and get the planned sales quantity from the user\n",
    "i = 1\n",
    "while i <= num_months:\n",
    "    sales_qty = int(input(f\"Please enter the planned sales quantity for month {i}: \"))\n",
    "    sales_quantities.append(sales_qty)\n",
    "    i += 1\n",
    "# Create an empty list to store the production quantities\n",
    "production_quantities = []\n",
    "previous_stock = initial_stock\n",
    "# Loop through each month and calculate the production quantity\n",
    "i = 0\n",
    "#For each month, the program checks whether the sales quantity is smaller or larger than the previous stock level.\n",
    "while i < num_months:\n",
    "#For each month, the program checks whether the sales quantity is smaller or larger than the previous stock level.\n",
    "    if sales_quantities[i] <= previous_stock:\n",
    " #If the sales quantity is smaller than or equal to the previous stock level, no production is required and the production quantity is set to 0.\n",
    "    \n",
    "        production_qty = 0\n",
    "# If the planned sales quantity is greater than the current stock level, production is needed to meet the demand\n",
    "    else:\n",
    "        production_qty = sales_quantities[i] - previous_stock\n",
    "    production_quantities.append(production_qty)\n",
    "# Update the stock level for the next month by subtracting the planned sales quantity from the previous level\n",
    "    previous_stock = previous_stock + production_qty - sales_quantities[i]\n",
    "    i += 1\n",
    "# Print the resulting production quantities for each month\n",
    "print(\"\\nThe resulting production quantities are:\\n\")\n",
    "i = 1\n",
    "for prod_qty in production_quantities:\n",
    "    print(f\"Production quantity month {i} - {prod_qty}\") # output\n",
    "    i += 1\n"
   ]
  },
  {
   "cell_type": "code",
   "execution_count": null,
   "id": "d53a6e4d",
   "metadata": {},
   "outputs": [],
   "source": []
  },
  {
   "cell_type": "code",
   "execution_count": null,
   "id": "1554c7f7",
   "metadata": {},
   "outputs": [],
   "source": []
  }
 ],
 "metadata": {
  "kernelspec": {
   "display_name": "Python 3 (ipykernel)",
   "language": "python",
   "name": "python3"
  },
  "language_info": {
   "codemirror_mode": {
    "name": "ipython",
    "version": 3
   },
   "file_extension": ".py",
   "mimetype": "text/x-python",
   "name": "python",
   "nbconvert_exporter": "python",
   "pygments_lexer": "ipython3",
   "version": "3.11.3"
  }
 },
 "nbformat": 4,
 "nbformat_minor": 5
}
